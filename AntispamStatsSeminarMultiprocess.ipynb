{
  "nbformat": 4,
  "nbformat_minor": 0,
  "metadata": {
    "anaconda-cloud": {},
    "kernelspec": {
      "display_name": "Python [default]",
      "language": "python",
      "name": "python2"
    },
    "language_info": {
      "codemirror_mode": {
        "name": "ipython",
        "version": 2
      },
      "file_extension": ".py",
      "mimetype": "text/x-python",
      "name": "python",
      "nbconvert_exporter": "python",
      "pygments_lexer": "ipython2",
      "version": "2.7.13"
    },
    "colab": {
      "name": "AntispamStatsSeminarMultiprocess.ipynb",
      "provenance": [],
      "collapsed_sections": [
        "aChPmS031Hoo"
      ],
      "include_colab_link": true
    }
  },
  "cells": [
    {
      "cell_type": "markdown",
      "metadata": {
        "id": "view-in-github",
        "colab_type": "text"
      },
      "source": [
        "<a href=\"https://colab.research.google.com/github/tilacyn/ir-itmo/blob/master/AntispamStatsSeminarMultiprocess.ipynb\" target=\"_parent\"><img src=\"https://colab.research.google.com/assets/colab-badge.svg\" alt=\"Open In Colab\"/></a>"
      ]
    },
    {
      "cell_type": "markdown",
      "metadata": {
        "id": "gXR24YBJM7Dn",
        "colab_type": "text"
      },
      "source": [
        "# ** Описание **"
      ]
    },
    {
      "cell_type": "markdown",
      "metadata": {
        "id": "hxkaApKYM7Do",
        "colab_type": "raw"
      },
      "source": [
        "Построить графики распределения в спам и не спам множествах следующих признаков:\n",
        "\n",
        "1\tКоличество слов на странице\n",
        "2\tСредняя длинна слова\n",
        "3\tКоличество слов в заголовке страниц (слова в теге <html><head><title> Some text </title>)\n",
        "4\tКоличество слов в анкорах ссылок (<html><body><a> Some text </a>)\n",
        "5\tКоэффициент сжатия\n",
        "\n",
        "Нужно посчитать статистику минимум по трем признакам и обязательно сделать для 1-го и 2-го признаков\n",
        "\n",
        "И отправить первое решение в соревнование https://kaggle.com/join/antispam_infopoisk\n",
        "На основании одного из указанных выше признаков попытаться разделить мн-во, так чтобы score в соревновании был больше 0.55\n",
        "\n",
        "При выполнении всех этих условия в течении семинара +1 балл к ДЗ\n",
        "\n",
        "Описание ДЗ и правил выставления за него баллов в https://inclass.kaggle.com/c/antispam-infopoisk  \n",
        "Сроки ДЗ уточнить у преподователя - обычно 2 недели"
      ]
    },
    {
      "cell_type": "code",
      "metadata": {
        "id": "KdFbTK1QM7Do",
        "colab_type": "code",
        "colab": {}
      },
      "source": [
        "from __future__ import division\n",
        "\n",
        "import base64\n",
        "import csv\n",
        "import gzip\n",
        "import zlib\n",
        "\n",
        "from collections import namedtuple\n",
        "\n",
        "%matplotlib inline\n",
        "import matplotlib.pyplot as plt"
      ],
      "execution_count": 0,
      "outputs": []
    },
    {
      "cell_type": "code",
      "metadata": {
        "id": "dr2KDQMTM7Dr",
        "colab_type": "code",
        "colab": {}
      },
      "source": [
        "TRACE_NUM = 1000\n",
        "import logging\n",
        "reload(logging)\n",
        "logging.basicConfig(format='%(asctime)s %(levelname)s:%(message)s', level=logging.INFO, datefmt='%H:%M:%S')\n",
        "\n",
        "def trace(items_num, trace_num=TRACE_NUM):\n",
        "    if items_num % trace_num == 0: logging.info(\"Complete items %05d\" % items_num)\n",
        "        \n",
        "def trace_worker(items_num, worker_id, trace_num=TRACE_NUM):\n",
        "    if items_num % trace_num == 0: logging.info(\"Complete items %05d in worker_id %d\" % (items_num, worker_id))"
      ],
      "execution_count": 0,
      "outputs": []
    },
    {
      "cell_type": "markdown",
      "metadata": {
        "id": "6TxqlMRhM7Du",
        "colab_type": "text"
      },
      "source": [
        "### Утилиты"
      ]
    },
    {
      "cell_type": "markdown",
      "metadata": {
        "id": "qJ1FYiP_M7Du",
        "colab_type": "text"
      },
      "source": [
        "#### Декораторы"
      ]
    },
    {
      "cell_type": "code",
      "metadata": {
        "id": "6auyaNrzM7Dv",
        "colab_type": "code",
        "colab": {}
      },
      "source": [
        "def to_utf8(text):\n",
        "    if isinstance(text, unicode): text = text.encode('utf8')\n",
        "    return text\n",
        "\n",
        "def convert2unicode(f):\n",
        "    def tmp(text):\n",
        "        if not isinstance(text, unicode): text = text.decode('utf8')\n",
        "        return f(text)\n",
        "    return tmp\n",
        "\n",
        "def convert2lower(f):\n",
        "    def tmp(text):        \n",
        "        return f(text.lower())\n",
        "    return tmp\n",
        "\n",
        "#P.S. Декораторы могут усложнять отладку, так что от них вполне можно отказаться и воспользоваться copy-paste"
      ],
      "execution_count": 0,
      "outputs": []
    },
    {
      "cell_type": "markdown",
      "metadata": {
        "id": "vA7JInG1M7Dx",
        "colab_type": "text"
      },
      "source": [
        "### Извлечение текста из html"
      ]
    },
    {
      "cell_type": "markdown",
      "metadata": {
        "id": "2tAAY6U5M7Dy",
        "colab_type": "text"
      },
      "source": [
        "#### Извлечение текста при помощи встроенных модулей"
      ]
    },
    {
      "cell_type": "code",
      "metadata": {
        "id": "PK6sbZXRM7Dy",
        "colab_type": "code",
        "colab": {}
      },
      "source": [
        "from HTMLParser import HTMLParser\n",
        "import re\n",
        "\n",
        "###Извлечение текста из title можно вписать сюда\n",
        "\n",
        "class TextHTMLParser(HTMLParser):\n",
        "    def __init__(self):\n",
        "        HTMLParser.__init__(self)\n",
        "        self._text = []\n",
        "        self._title = \"\"\n",
        "        self._in_title = False\n",
        "\n",
        "    def handle_data(self, data):\n",
        "        text = data.strip()\n",
        "        if len(text) > 0:\n",
        "            text = re.sub('[ \\t\\r\\n]+', ' ', text)\n",
        "            self._text.append(text + ' ')\n",
        "\n",
        "    def handle_starttag(self, tag, attrs):\n",
        "        if tag == 'p':\n",
        "            self._text.append('\\n\\n')\n",
        "        elif tag == 'br':\n",
        "            self._text.append('\\n')\n",
        "        elif tag == 'title':\n",
        "            self._in_title = True\n",
        "\n",
        "    def handle_startendtag(self, tag, attrs):\n",
        "        if tag == 'br':\n",
        "            self._text.append('\\n\\n')\n",
        "\n",
        "    def text(self):\n",
        "        return ''.join(self._text).strip()\n",
        "\n",
        "@convert2unicode\n",
        "def html2text_parser(text):\n",
        "    parser = TextHTMLParser()\n",
        "    parser.feed(text)\n",
        "    return parser.text()"
      ],
      "execution_count": 0,
      "outputs": []
    },
    {
      "cell_type": "markdown",
      "metadata": {
        "id": "HBHi0L_qM7D0",
        "colab_type": "text"
      },
      "source": [
        "#### Извлечение текста при помощи дополнительных библиотек"
      ]
    },
    {
      "cell_type": "code",
      "metadata": {
        "id": "cEph5tjTM7D1",
        "colab_type": "code",
        "colab": {}
      },
      "source": [
        "def html2text_bs(raw_html):\n",
        "    from bs4 import BeautifulSoup\n",
        "    \"\"\"\n",
        "    Тут производится извлечения из html текста\n",
        "    \"\"\"\n",
        "    soup = BeautifulSoup(raw_html, \"html.parser\")\n",
        "    [s.extract() for s in soup(['script', 'style'])]\n",
        "    return soup.get_text()\n",
        "\n",
        "def html2text_bs_visible(raw_html):\n",
        "    from bs4 import BeautifulSoup\n",
        "    \"\"\"\n",
        "    Тут производится извлечения из html текста, который видим пользователю\n",
        "    \"\"\"\n",
        "    soup = BeautifulSoup(raw_html, \"html.parser\")    \n",
        "    [s.extract() for s in soup(['style', 'script', '[document]', 'head', 'title'])]\n",
        "    return soup.get_text()\n",
        "\n",
        "def html2text_boilerpipe(raw_html):\n",
        "    import boilerpipe\n",
        "    \"\"\"\n",
        "    еще одна библиотека очень хорошо извлекающая именно видимый пользователю текст,\n",
        "    но она завязана на java\n",
        "    \"\"\"\n",
        "    pass"
      ],
      "execution_count": 0,
      "outputs": []
    },
    {
      "cell_type": "markdown",
      "metadata": {
        "id": "DtWo5TrwM7D3",
        "colab_type": "text"
      },
      "source": [
        "#### Выбираем какой метод для конвертации html в текст будет основным"
      ]
    },
    {
      "cell_type": "code",
      "metadata": {
        "id": "0x-wXViXM7D4",
        "colab_type": "code",
        "colab": {}
      },
      "source": [
        "#html2text = html2text_bs\n",
        "html2text = html2text_parser"
      ],
      "execution_count": 0,
      "outputs": []
    },
    {
      "cell_type": "markdown",
      "metadata": {
        "id": "3Ip9oelsM7D6",
        "colab_type": "text"
      },
      "source": [
        "#### Методы для токенизации текста"
      ]
    },
    {
      "cell_type": "code",
      "metadata": {
        "id": "zc5L6MiIM7D7",
        "colab_type": "code",
        "colab": {}
      },
      "source": [
        "@convert2lower\n",
        "@convert2unicode\n",
        "def easy_tokenizer(text):\n",
        "    word = unicode()\n",
        "    for symbol in text:\n",
        "        if symbol.isalnum(): word += symbol\n",
        "        elif word:\n",
        "            yield word\n",
        "            word = unicode()\n",
        "    if word: yield word\n",
        "\n",
        "PYMORPHY_CACHE = {}\n",
        "MORPH = None\n",
        "#hint, чтобы установка pymorphy2 не была бы обязательной\n",
        "def get_lemmatizer():\n",
        "    import pymorphy2\n",
        "    global MORPH\n",
        "    if MORPH is None: MORPH = pymorphy2.MorphAnalyzer()\n",
        "    return MORPH\n",
        "\n",
        "@convert2lower\n",
        "@convert2unicode\n",
        "def pymorphy_tokenizer(text):\n",
        "    global PYMORPHY_CACHE\n",
        "    for word in easy_tokenizer(text):\n",
        "        word_hash = hash(word)\n",
        "        if word_hash not in PYMORPHY_CACHE:\n",
        "            PYMORPHY_CACHE[word_hash] = get_lemmatizer().parse(word)[0].normal_form            \n",
        "        yield PYMORPHY_CACHE[word_hash]"
      ],
      "execution_count": 0,
      "outputs": []
    },
    {
      "cell_type": "markdown",
      "metadata": {
        "id": "RuaA6nPpM7D9",
        "colab_type": "text"
      },
      "source": [
        "#### Основная функция, которая вызывается для преобразования html в список слов"
      ]
    },
    {
      "cell_type": "code",
      "metadata": {
        "id": "AXor2TzMM7D9",
        "colab_type": "code",
        "colab": {}
      },
      "source": [
        "def html2word(raw_html, to_text=html2text, tokenizer=easy_tokenizer):\n",
        "    return tokenizer(to_text(raw_html).lower())"
      ],
      "execution_count": 0,
      "outputs": []
    },
    {
      "cell_type": "markdown",
      "metadata": {
        "id": "bm7DfdsmM7D_",
        "colab_type": "text"
      },
      "source": [
        "#### Рассчет финальных метрик"
      ]
    },
    {
      "cell_type": "code",
      "metadata": {
        "id": "IeW12pLRM7EA",
        "colab_type": "code",
        "colab": {}
      },
      "source": [
        "def safe_divide(a, b):\n",
        "    if a == 0: return 0.0\n",
        "    elif b == 0: return 0.0\n",
        "    else: return a/b\n",
        "\n",
        "def calculate_metrics(predictions, threshold):    \n",
        "    \"\"\"\n",
        "    Функция подсчета метрик\n",
        "    Параметры\n",
        "    predictions - ранки по документам\n",
        "    threshold  - порог для метрик\n",
        "    \"\"\"\n",
        "    true_positive = 0\n",
        "    false_positive = 0\n",
        "    true_negative = 0\n",
        "    false_negative = 0\n",
        "    for (url_id, mark, url, prediction) in predictions:        \n",
        "        mark_predict = prediction > threshold\n",
        "\n",
        "        if mark_predict:                     \n",
        "            if mark_predict == mark: true_positive += 1\n",
        "            else: false_positive += 1                    \n",
        "        else:                     \n",
        "            if  mark_predict == mark: true_negative += 1\n",
        "            else: false_negative += 1\n",
        "\n",
        "    class_prec  = safe_divide(true_positive, true_positive + false_positive)\n",
        "    class_recall = safe_divide(true_positive, true_positive + false_negative)\n",
        "        \n",
        "    class_F1 = safe_divide(2 * class_prec * class_recall, class_prec + class_recall)\n",
        "    \n",
        "    \n",
        "    not_class_prec = safe_divide(true_negative, true_negative + false_negative)\n",
        "    not_class_recall = safe_divide(true_negative, true_negative + false_positive)\n",
        "    \n",
        "    not_class_F1 = safe_divide(2 * not_class_prec * not_class_recall, not_class_prec + not_class_recall)\n",
        "    \n",
        "    return ( (class_prec, class_recall, class_F1), (not_class_prec, not_class_recall, not_class_F1) )\n",
        "\n",
        "def arange(start, stop, step):\n",
        "    cur_value = start\n",
        "    while True:\n",
        "        if cur_value > stop: break\n",
        "        yield cur_value\n",
        "        cur_value += step\n",
        "\n",
        "def plot_results(docs, min_threshold=-1, max_threshold=1, step=0.1, trace=False):\n",
        "    x = []\n",
        "    y_p = []\n",
        "    y_n = []\n",
        "    docs_predictions = classifier.predict_all(docs)\n",
        "    for threshold in arange(min_threshold, max_threshold, step):\n",
        "        r = calculate_metrics(docs_predictions, threshold)\n",
        "        x.append(threshold)\n",
        "        y_p.append(r[0])\n",
        "        y_n.append(r[1])        \n",
        "        if trace: \n",
        "            print 'threshold %s' % threshold\n",
        "            print '\\tclass_prec %s, class_recall %s, class_F1 %s' % r[0]\n",
        "            print '\\tnot_class_prec %s, not_class_recall %s, not_class_F1 %s' % r[1]\n",
        "            print '\\t\\tMacroF1Mesure %s' % ((r[0][2] + r[1][2])/2)\n",
        "    plot_stats(x, y_p, \"Class Result\")\n",
        "    plot_stats(x, y_n, \"Not class Result\")    \n",
        "\n",
        "\n",
        "def plot_stats(x, y, title):\n",
        "    plt.figure(figsize=(10, 5))\n",
        "\n",
        "    prec, = plt.plot( x, \n",
        "                     [k[0] for k in y], \"r\", label='Precision', \n",
        "                     linewidth=1)\n",
        "    accur, = plt.plot( x, \n",
        "                      [k[1] for k in y], \"b\", label='Recall',\n",
        "                      linewidth=1)\n",
        "    f1, =    plt.plot( x, \n",
        "                      [k[2] for k in y], \"g\", label='F1',\n",
        "                      linewidth=1)\n",
        "    plt.grid(True)\n",
        "    plt.legend(handles=[prec, accur, f1])\n",
        "    plt.title(title)\n",
        "    plt.show()"
      ],
      "execution_count": 0,
      "outputs": []
    },
    {
      "cell_type": "code",
      "metadata": {
        "id": "fFCy6CFuM7EC",
        "colab_type": "code",
        "colab": {}
      },
      "source": [
        "def calc_features(url, html_data):\n",
        "    words = list(html2word(html_data))\n",
        "    words_num = len(words)\n",
        "    avg_word_len = 0\n",
        "    title_words_num = 0    \n",
        "    anchor_words_num = 0\n",
        "    compression_level = 0\n",
        "    \n",
        "    return [len(words), avg_word_len, title_words_num, anchor_words_num, compression_level]"
      ],
      "execution_count": 0,
      "outputs": []
    },
    {
      "cell_type": "code",
      "metadata": {
        "id": "J0GWUNE9M7EE",
        "colab_type": "code",
        "outputId": "43a15cf3-5897-45ef-8297-f6c82d1d62cf",
        "colab": {
          "base_uri": "https://localhost:8080/",
          "height": 34
        }
      },
      "source": [
        "test_html_data = u'''\n",
        "<html>\n",
        "<title> Заголовок Ololo </title>\n",
        "спам 1 2 3\n",
        "</html>\n",
        "'''\n",
        "test_url = 'http://ololo'\n",
        "test_features = calc_features(test_url, test_html_data)\n",
        "print test_features"
      ],
      "execution_count": 13,
      "outputs": [
        {
          "output_type": "stream",
          "text": [
            "[6, 0, 0, 0, 0]\n"
          ],
          "name": "stdout"
        }
      ]
    },
    {
      "cell_type": "code",
      "metadata": {
        "id": "6eFplx9JM7EH",
        "colab_type": "code",
        "colab": {}
      },
      "source": [
        "from multiprocessing import Process, Queue\n",
        "\n",
        "DocItem = namedtuple('DocItem', ['doc_id', 'is_spam', 'url', 'features'])\n",
        "\n",
        "WORKER_NUM = 4\n",
        "\n",
        "def load_csv(input_file_name, calc_features_f):    \n",
        "    \"\"\"\n",
        "    Загружаем данные и извлекаем на лету признаки\n",
        "    Сам контент не сохраняется, чтобы уменьшить потребление памяти - чтобы\n",
        "    можно было запускать даже на ноутбуках в классе\n",
        "    \"\"\"\n",
        "    \n",
        "    with gzip.open(input_file_name) if input_file_name.endswith('gz') else open(input_file_name)  as input_file:            \n",
        "        headers = input_file.readline()\n",
        "        \n",
        "        for i, line in enumerate(input_file):\n",
        "            trace(i)\n",
        "            parts = line.strip().split('\\t')\n",
        "            url_id = int(parts[0])                                        \n",
        "            mark = bool(int(parts[1]))                    \n",
        "            url = parts[2]\n",
        "            pageInb64 = parts[3]\n",
        "            html_data = base64.b64decode(pageInb64)\n",
        "            features = calc_features_f(url, html_data)            \n",
        "            yield DocItem(url_id, mark, url, features)            \n",
        "                \n",
        "        trace(i, 1)  \n",
        "        \n",
        "def load_csv_worker(input_file_name, calc_features_f, worker_id, res_queue):    \n",
        "    with gzip.open(input_file_name) if input_file_name.endswith('gz') else open(input_file_name)  as input_file:            \n",
        "        headers = input_file.readline()\n",
        "        \n",
        "        for i, line in enumerate(input_file):\n",
        "            trace_worker(i, worker_id)\n",
        "            if i % WORKER_NUM != worker_id: continue\n",
        "            parts = line.strip().split('\\t')\n",
        "            url_id = int(parts[0])                                        \n",
        "            mark = bool(int(parts[1]))                    \n",
        "            url = parts[2]\n",
        "            pageInb64 = parts[3]\n",
        "            html_data = base64.b64decode(pageInb64)\n",
        "            features = calc_features_f(url, html_data)            \n",
        "            res_queue.put(DocItem(url_id, mark, url, features))\n",
        "                \n",
        "        trace_worker(i, worker_id, 1)  \n",
        "    res_queue.put(None)\n",
        "        \n",
        "def load_csv_multiprocess(input_file_name, calc_features_f):\n",
        "    processes = []\n",
        "    res_queue = Queue()    \n",
        "    for i in xrange(WORKER_NUM):\n",
        "        process = Process(target=load_csv_worker, args=(input_file_name, calc_features_f, i, res_queue))\n",
        "        processes.append(process)\n",
        "        process.start()\n",
        "    \n",
        "    complete_workers = 0\n",
        "    while complete_workers != WORKER_NUM:\n",
        "        item = res_queue.get()\n",
        "        if item is None:\n",
        "            complete_workers += 1\n",
        "        else:\n",
        "            yield item\n",
        "        \n",
        "    for process in processes: process.join()"
      ],
      "execution_count": 0,
      "outputs": []
    },
    {
      "cell_type": "markdown",
      "metadata": {
        "id": "HfPWCmv9M7EI",
        "colab_type": "text"
      },
      "source": [
        "** Обрабатываем входной файл **\n",
        "<br>\n",
        "Формат - поля разделенные табуляциями\n",
        "<br>\n",
        "0 - идентификатор документа\n",
        "<br>\n",
        "1 - метка класса 0 - не спам, 1 - спам\n",
        "<br>\n",
        "2 - урл документа\n",
        "<br>\n",
        "3 - документ в кодировке base64\n",
        "\n",
        "Выходной формат - массив кортежей вида\n",
        "(doc_id, is_spam, url, html_data)"
      ]
    },
    {
      "cell_type": "code",
      "metadata": {
        "id": "e_vAmW44QMNn",
        "colab_type": "code",
        "outputId": "5e8a1833-f17e-42b5-b809-664dd1e95d2c",
        "colab": {
          "base_uri": "https://localhost:8080/",
          "height": 34
        }
      },
      "source": [
        "from google.colab import drive\n",
        "drive.mount('/content/drive')\n",
        "import os\n",
        "os.chdir('/content/drive/My Drive/antispam-ir-itmo')"
      ],
      "execution_count": 15,
      "outputs": [
        {
          "output_type": "stream",
          "text": [
            "Drive already mounted at /content/drive; to attempt to forcibly remount, call drive.mount(\"/content/drive\", force_remount=True).\n"
          ],
          "name": "stdout"
        }
      ]
    },
    {
      "cell_type": "markdown",
      "metadata": {
        "id": "aChPmS031Hoo",
        "colab_type": "text"
      },
      "source": [
        "#### Plots"
      ]
    },
    {
      "cell_type": "code",
      "metadata": {
        "id": "HvcXicpyM7EM",
        "colab_type": "code",
        "outputId": "c4c01150-3fe7-439c-f5d2-e25fce43173b",
        "colab": {
          "base_uri": "https://localhost:8080/",
          "height": 315
        }
      },
      "source": [
        "is_spam_data = [doc.features[0] for doc in train_docs if doc[1] == True]\n",
        "not_spam_data = [doc.features[0] for doc in train_docs if doc[1] == False]\n",
        "bins = range(0,3000,10)\n",
        "plt.hist(is_spam_data, bins=bins, color='red', normed=True, alpha=0.7, label='spam')\n",
        "plt.hist(not_spam_data, bins=bins, color='blue', normed=True, alpha=0.7, label='not_spam')\n",
        "plt.title('NumWords')\n",
        "plt.legend()\n",
        "plt.show()"
      ],
      "execution_count": 0,
      "outputs": [
        {
          "output_type": "stream",
          "text": [
            "/usr/local/lib/python2.7/dist-packages/matplotlib/axes/_axes.py:6571: UserWarning: The 'normed' kwarg is deprecated, and has been replaced by the 'density' kwarg.\n",
            "  warnings.warn(\"The 'normed' kwarg is deprecated, and has been \"\n"
          ],
          "name": "stderr"
        },
        {
          "output_type": "display_data",
          "data": {
            "image/png": "[encoded data removed]",
            "text/plain": [
              "<Figure size 432x288 with 1 Axes>"
            ]
          },
          "metadata": {
            "tags": [],
            "needs_background": "light"
          }
        }
      ]
    },
    {
      "cell_type": "code",
      "metadata": {
        "id": "XS7tyGynM7EO",
        "colab_type": "code",
        "outputId": "9173d477-9441-4107-bd71-251d6268ee50",
        "colab": {}
      },
      "source": [
        "is_spam_data = [doc.features[1] for doc in train_docs if doc[1] == True]\n",
        "not_spam_data = [doc.features[1] for doc in train_docs if doc[1] == False]\n",
        "bins = 100\n",
        "plt.hist(is_spam_data, bins=bins, color='red', normed=True, alpha=0.7, label='spam')\n",
        "plt.hist(not_spam_data, bins=bins, color='blue', normed=True, alpha=0.7, label='not_spam')\n",
        "plt.title('AvgWordLen')\n",
        "plt.legend()\n",
        "plt.show()"
      ],
      "execution_count": 0,
      "outputs": [
        {
          "output_type": "display_data",
          "data": {
            "image/png": "[encoded data removed]",
            "text/plain": [
              "<matplotlib.figure.Figure at 0x7fa72e434ed0>"
            ]
          },
          "metadata": {
            "tags": []
          }
        }
      ]
    },
    {
      "cell_type": "code",
      "metadata": {
        "id": "D9H9GrpgM7ER",
        "colab_type": "code",
        "outputId": "93c496f0-55a1-4799-919d-dddab44af1e3",
        "colab": {}
      },
      "source": [
        "is_spam_data = [doc.features[2] for doc in train_docs if doc[1] == True]\n",
        "not_spam_data = [doc.features[2] for doc in train_docs if doc[1] == False]\n",
        "bins = range(0, 30, 1)\n",
        "plt.hist(is_spam_data, bins=bins, color='red', normed=True, alpha=0.7, label='spam')\n",
        "plt.hist(not_spam_data, bins=bins, color='blue', normed=True, alpha=0.7, label='not_spam')\n",
        "plt.title('NumWordsTitle')\n",
        "plt.legend()\n",
        "plt.show()"
      ],
      "execution_count": 0,
      "outputs": [
        {
          "output_type": "display_data",
          "data": {
            "image/png": "[encoded data removed]",
            "text/plain": [
              "<matplotlib.figure.Figure at 0x7fa72d72fcd0>"
            ]
          },
          "metadata": {
            "tags": []
          }
        }
      ]
    },
    {
      "cell_type": "code",
      "metadata": {
        "id": "e7ILsDezM7ET",
        "colab_type": "code",
        "colab": {}
      },
      "source": [
        "#Добавить графики для остальных фичей"
      ],
      "execution_count": 0,
      "outputs": []
    },
    {
      "cell_type": "markdown",
      "metadata": {
        "id": "Dw336ny_M7EU",
        "colab_type": "text"
      },
      "source": [
        "#### Классификатор: реализовать"
      ]
    },
    {
      "cell_type": "code",
      "metadata": {
        "collapsed": true,
        "scrolled": false,
        "id": "rbi4hODsM7EI",
        "colab_type": "code",
        "outputId": "2ab93b22-e625-4b4f-e442-19bf9af06418",
        "colab": {
          "base_uri": "https://localhost:8080/",
          "height": 1000
        }
      },
      "source": [
        "%%time\n",
        "TRAIN_DATA_FILE  = 'kaggle_train_data_tab.csv.gz'\n",
        "TEST_DATA_FILE  = 'kaggle_test_data_tab.csv.gz'\n",
        "\n",
        "gen = load_csv_multiprocess(TRAIN_DATA_FILE, lambda x, y: y)\n",
        "train_and_val_docs = list(gen)\n",
        "gen = load_csv_multiprocess(TEST_DATA_FILE, lambda x, y: y)\n",
        "submission_docs = list(gen)"
      ],
      "execution_count": 16,
      "outputs": [
        {
          "output_type": "stream",
          "text": [
            "13:05:40 INFO:Complete items 00000 in worker_id 1\n",
            "13:05:40 INFO:Complete items 00000 in worker_id 0\n",
            "13:05:40 INFO:Complete items 00000 in worker_id 2\n",
            "13:05:40 INFO:Complete items 00000 in worker_id 3\n",
            "13:05:42 INFO:Complete items 01000 in worker_id 2\n",
            "13:05:42 INFO:Complete items 01000 in worker_id 3\n",
            "13:05:42 INFO:Complete items 01000 in worker_id 0\n",
            "13:05:42 INFO:Complete items 01000 in worker_id 1\n",
            "13:05:44 INFO:Complete items 02000 in worker_id 0\n",
            "13:05:44 INFO:Complete items 02000 in worker_id 3\n",
            "13:05:44 INFO:Complete items 02000 in worker_id 2\n",
            "13:05:44 INFO:Complete items 02000 in worker_id 1\n",
            "13:05:45 INFO:Complete items 03000 in worker_id 0\n",
            "13:05:45 INFO:Complete items 03000 in worker_id 3\n",
            "13:05:45 INFO:Complete items 03000 in worker_id 1\n",
            "13:05:45 INFO:Complete items 03000 in worker_id 2\n",
            "13:05:47 INFO:Complete items 04000 in worker_id 0\n",
            "13:05:47 INFO:Complete items 04000 in worker_id 3\n",
            "13:05:47 INFO:Complete items 04000 in worker_id 2\n",
            "13:05:47 INFO:Complete items 04000 in worker_id 1\n",
            "13:05:48 INFO:Complete items 05000 in worker_id 2\n",
            "13:05:48 INFO:Complete items 05000 in worker_id 0\n",
            "13:05:49 INFO:Complete items 05000 in worker_id 3\n",
            "13:05:49 INFO:Complete items 05000 in worker_id 1\n",
            "13:05:50 INFO:Complete items 06000 in worker_id 2\n",
            "13:05:50 INFO:Complete items 06000 in worker_id 0\n",
            "13:05:50 INFO:Complete items 06000 in worker_id 3\n",
            "13:05:50 INFO:Complete items 06000 in worker_id 1\n",
            "13:05:52 INFO:Complete items 07000 in worker_id 2\n",
            "13:05:52 INFO:Complete items 07043 in worker_id 2\n",
            "13:05:52 INFO:Complete items 07000 in worker_id 0\n",
            "13:05:52 INFO:Complete items 07000 in worker_id 3\n",
            "13:05:52 INFO:Complete items 07043 in worker_id 0\n",
            "13:05:52 INFO:Complete items 07043 in worker_id 3\n",
            "13:05:52 INFO:Complete items 07000 in worker_id 1\n",
            "13:05:52 INFO:Complete items 07043 in worker_id 1\n",
            "13:05:52 INFO:Complete items 00000 in worker_id 0\n",
            "13:05:52 INFO:Complete items 00000 in worker_id 1\n",
            "13:05:52 INFO:Complete items 00000 in worker_id 2\n",
            "13:05:52 INFO:Complete items 00000 in worker_id 3\n",
            "13:05:54 INFO:Complete items 01000 in worker_id 1\n",
            "13:05:54 INFO:Complete items 01000 in worker_id 2\n",
            "13:05:54 INFO:Complete items 01000 in worker_id 0\n",
            "13:05:54 INFO:Complete items 01000 in worker_id 3\n",
            "13:05:56 INFO:Complete items 02000 in worker_id 1\n",
            "13:05:56 INFO:Complete items 02000 in worker_id 0\n",
            "13:05:56 INFO:Complete items 02000 in worker_id 2\n",
            "13:05:56 INFO:Complete items 02000 in worker_id 3\n",
            "13:05:57 INFO:Complete items 03000 in worker_id 1\n",
            "13:05:58 INFO:Complete items 03000 in worker_id 2\n",
            "13:05:58 INFO:Complete items 03000 in worker_id 0\n",
            "13:05:58 INFO:Complete items 03000 in worker_id 3\n",
            "13:05:59 INFO:Complete items 04000 in worker_id 1\n",
            "13:06:00 INFO:Complete items 04000 in worker_id 0\n",
            "13:06:00 INFO:Complete items 04000 in worker_id 2\n",
            "13:06:00 INFO:Complete items 04000 in worker_id 3\n",
            "13:06:01 INFO:Complete items 05000 in worker_id 1\n",
            "13:06:01 INFO:Complete items 05000 in worker_id 0\n",
            "13:06:01 INFO:Complete items 05000 in worker_id 2\n",
            "13:06:02 INFO:Complete items 05000 in worker_id 3\n",
            "13:06:03 INFO:Complete items 06000 in worker_id 2\n",
            "13:06:03 INFO:Complete items 06000 in worker_id 1\n",
            "13:06:03 INFO:Complete items 06000 in worker_id 0\n",
            "13:06:04 INFO:Complete items 06000 in worker_id 3\n",
            "13:06:05 INFO:Complete items 07000 in worker_id 2\n",
            "13:06:05 INFO:Complete items 07000 in worker_id 0\n",
            "13:06:05 INFO:Complete items 07000 in worker_id 1\n",
            "13:06:05 INFO:Complete items 07000 in worker_id 3\n",
            "13:06:06 INFO:Complete items 08000 in worker_id 2\n",
            "13:06:06 INFO:Complete items 08000 in worker_id 0\n",
            "13:06:06 INFO:Complete items 08000 in worker_id 1\n",
            "13:06:07 INFO:Complete items 08000 in worker_id 3\n",
            "13:06:08 INFO:Complete items 09000 in worker_id 2\n",
            "13:06:08 INFO:Complete items 09000 in worker_id 1\n",
            "13:06:08 INFO:Complete items 09000 in worker_id 0\n",
            "13:06:09 INFO:Complete items 09000 in worker_id 3\n",
            "13:06:10 INFO:Complete items 10000 in worker_id 2\n",
            "13:06:10 INFO:Complete items 10000 in worker_id 1\n",
            "13:06:10 INFO:Complete items 10000 in worker_id 0\n",
            "13:06:11 INFO:Complete items 10000 in worker_id 3\n",
            "13:06:11 INFO:Complete items 11000 in worker_id 2\n",
            "13:06:12 INFO:Complete items 11000 in worker_id 1\n",
            "13:06:12 INFO:Complete items 11000 in worker_id 0\n",
            "13:06:13 INFO:Complete items 11000 in worker_id 3\n",
            "13:06:13 INFO:Complete items 12000 in worker_id 2\n",
            "13:06:14 INFO:Complete items 12000 in worker_id 1\n",
            "13:06:14 INFO:Complete items 12000 in worker_id 0\n",
            "13:06:14 INFO:Complete items 12000 in worker_id 3\n",
            "13:06:15 INFO:Complete items 13000 in worker_id 2\n",
            "13:06:15 INFO:Complete items 13000 in worker_id 1\n",
            "13:06:15 INFO:Complete items 13000 in worker_id 0\n",
            "13:06:16 INFO:Complete items 13000 in worker_id 3\n",
            "13:06:17 INFO:Complete items 14000 in worker_id 2\n",
            "13:06:17 INFO:Complete items 14000 in worker_id 1\n",
            "13:06:17 INFO:Complete items 14000 in worker_id 0\n",
            "13:06:18 INFO:Complete items 14000 in worker_id 3\n",
            "13:06:19 INFO:Complete items 15000 in worker_id 2\n",
            "13:06:19 INFO:Complete items 15000 in worker_id 1\n",
            "13:06:19 INFO:Complete items 15000 in worker_id 0\n",
            "13:06:20 INFO:Complete items 15000 in worker_id 3\n",
            "13:06:20 INFO:Complete items 16000 in worker_id 0\n",
            "13:06:20 INFO:Complete items 16038 in worker_id 0\n",
            "13:06:20 INFO:Complete items 16000 in worker_id 2\n",
            "13:06:21 INFO:Complete items 16038 in worker_id 2\n",
            "13:06:21 INFO:Complete items 16000 in worker_id 1\n",
            "13:06:21 INFO:Complete items 16038 in worker_id 1\n",
            "13:06:21 INFO:Complete items 16000 in worker_id 3\n",
            "13:06:21 INFO:Complete items 16038 in worker_id 3\n"
          ],
          "name": "stderr"
        },
        {
          "output_type": "stream",
          "text": [
            "CPU times: user 1 s, sys: 1.85 s, total: 2.85 s\n",
            "Wall time: 40.5 s\n"
          ],
          "name": "stdout"
        }
      ]
    },
    {
      "cell_type": "code",
      "metadata": {
        "id": "9NleD5FSFb-e",
        "colab_type": "code",
        "colab": {}
      },
      "source": [
        "def extract_features_from_corpus(docs):\n",
        "    tf_idf_vector = TfidfVectorizer(min_df=0.05, sublinear_tf=True).fit_transform([d.features for d in docs]).toarray()\n",
        "    result = []\n",
        "    for doc_num, doc in enumerate(docs):\n",
        "      result.append(DocItem(doc.doc_id, doc.is_spam, doc.url, tf_idf_vector[doc_num]))\n",
        "    return result"
      ],
      "execution_count": 0,
      "outputs": []
    },
    {
      "cell_type": "code",
      "metadata": {
        "id": "_S5j3qK80Nky",
        "colab_type": "code",
        "colab": {}
      },
      "source": [
        "train_docs = train_and_val_docs[:6000]\n",
        "val_docs = train_and_val_docs[6000:]\n",
        "all_docs = train_and_val_docs + submission_docs\n",
        "all_docs_featured = extract_features_from_corpus(all_docs)\n",
        "train_docs_featured = all_docs_featured[:len(train_docs)]\n",
        "val_docs_featured = all_docs_featured[len(train_docs):len(train_docs) + len(val_docs)]\n",
        "submission_docs_features = all_docs_featured[len(train_docs) + len(val_docs):]"
      ],
      "execution_count": 0,
      "outputs": []
    },
    {
      "cell_type": "code",
      "metadata": {
        "id": "Dwgvo0ikTZck",
        "colab_type": "code",
        "colab": {}
      },
      "source": [
        "from six.moves import urllib\n",
        "from sklearn import svm\n",
        "import math\n",
        "import numpy as np\n",
        "from sklearn.feature_extraction.text import TfidfVectorizer\n",
        "from xgboost import XGBClassifier"
      ],
      "execution_count": 0,
      "outputs": []
    },
    {
      "cell_type": "code",
      "metadata": {
        "id": "BnejM2ATe61y",
        "colab_type": "code",
        "colab": {}
      },
      "source": [
        "idf_cache = {}\n",
        "\n",
        "def tf(term, text):\n",
        "  return text[term] / text[-1]\n",
        "\n",
        "def idf(term, corpus):\n",
        "  if term not in idf_cache:\n",
        "    idf_cache[term] = math.log(len(corpus) / len([_ for doc in corpus if term in doc]))\n",
        "  return idf_cache[term]\n",
        "\n",
        "def to_dict(text):\n",
        "  res = dict()\n",
        "  for term in text:\n",
        "    res.setdefault(term, 0)\n",
        "    res[term] += 1\n",
        "  res[-1] = sum(res.values())\n",
        "  return res\n",
        "\n",
        "def extract_features_tfidf(text, corpus, nf):\n",
        "  tf_idf = {}\n",
        "  for term in text:\n",
        "    if term in tf_idf:\n",
        "      continue\n",
        "    tf_idf[term] = tf(term, text) * idf(term, corpus)\n",
        "  \n",
        "  features = tf_idf.values()\n",
        "  features.sort()\n",
        "  return features[-nf:]\n",
        "\n",
        "def extract_features(url, html):\n",
        "  text = html2word(html, to_text=html2text_bs_visible)\n",
        "  text = [word for word in text]\n",
        "  text_dict = to_dict(text)\n",
        "  avg_word_len = np.mean([len(word) for word in text])\n",
        "  # print(url)\n",
        "\n",
        "  return len(text), len(text_dict), avg_word_len, len(url.split('-'))"
      ],
      "execution_count": 0,
      "outputs": []
    },
    {
      "cell_type": "code",
      "metadata": {
        "id": "BAIIb5WKM7EV",
        "colab_type": "code",
        "colab": {}
      },
      "source": [
        "class Classifier:\n",
        "    \n",
        "    def __init__(self, nf):\n",
        "        self.model = XGBClassifier(max_depth=4, learning_rate=0.1, n_estimators=700)\n",
        "        pass\n",
        "\n",
        "    def predict_all(self, docs):\n",
        "        return self.model.predict([doc.features for doc in docs])\n",
        "    \n",
        "    def train(self, docs):           \n",
        "        objects = [doc.features for doc in docs]\n",
        "        labels = [doc.is_spam for doc in docs]\n",
        "        objects = np.array(objects)\n",
        "        labels = np.array(labels)\n",
        "        self.model.fit(objects, labels)\n",
        "\n",
        "def eval(preds, docs):\n",
        "  p = 0\n",
        "  n = 0\n",
        "  tp = 0\n",
        "  tn = 0\n",
        "  for doc, ypred in zip(docs, preds):\n",
        "    ytrue = doc.is_spam\n",
        "    p += ytrue\n",
        "    tp += ytrue and ypred\n",
        "    n += not ytrue\n",
        "    tn += not ytrue and not ypred\n",
        "  return tp, tn, p, n"
      ],
      "execution_count": 0,
      "outputs": []
    },
    {
      "cell_type": "code",
      "metadata": {
        "id": "xv9YtwtvfExe",
        "colab_type": "code",
        "colab": {}
      },
      "source": [
        "from sklearn.multiclass import OneVsRestClassifier\n",
        "from sklearn.svm import SVC\n",
        "\n",
        "class Classifier2:\n",
        "    \n",
        "    def __init__(self, nf):\n",
        "        # self.model = OneVsRestClassifier(SVC())\n",
        "        self.model = SVC()\n",
        "        pass\n",
        "\n",
        "    def predict_all(self, docs):\n",
        "        return self.model.predict([doc.features for doc in docs])\n",
        "    \n",
        "    def train(self, docs):           \n",
        "        objects = [doc.features for doc in docs]\n",
        "        labels = [doc.is_spam for doc in docs]\n",
        "        objects = np.array(objects)\n",
        "        labels = np.array(labels)\n",
        "        self.model.fit(objects, labels)\n"
      ],
      "execution_count": 0,
      "outputs": []
    },
    {
      "cell_type": "code",
      "metadata": {
        "collapsed": true,
        "scrolled": true,
        "id": "A43FHOT4M7EW",
        "colab_type": "code",
        "colab": {}
      },
      "source": [
        "classifier = Classifier(2)\n",
        "classifier.train(val_docs_featured + train_docs_featured)"
      ],
      "execution_count": 0,
      "outputs": []
    },
    {
      "cell_type": "code",
      "metadata": {
        "id": "ccy3k5uKXaYJ",
        "colab_type": "code",
        "outputId": "65c301d0-e21f-4c66-8a8d-7476b1356a2a",
        "colab": {
          "base_uri": "https://localhost:8080/",
          "height": 51
        }
      },
      "source": [
        "preds = classifier.predict_all(val_docs_featured)\n",
        "tp, tn, p, n = eval(preds, val_docs_featured)\n",
        "print(tp / p)\n",
        "print(tn / n)"
      ],
      "execution_count": 86,
      "outputs": [
        {
          "output_type": "stream",
          "text": [
            "1.0\n",
            "1.0\n"
          ],
          "name": "stdout"
        }
      ]
    },
    {
      "cell_type": "code",
      "metadata": {
        "id": "OZZZ-Q6ZhI6a",
        "colab_type": "code",
        "colab": {}
      },
      "source": [
        "classifier = Classifier2(2)\n",
        "classifier.train(train_docs_featured[:100])"
      ],
      "execution_count": 0,
      "outputs": []
    },
    {
      "cell_type": "code",
      "metadata": {
        "id": "MWmXRQ84hMO_",
        "colab_type": "code",
        "colab": {
          "base_uri": "https://localhost:8080/",
          "height": 51
        },
        "outputId": "264e1725-f7e5-4a79-9ff6-6cc994275734"
      },
      "source": [
        "preds = classifier.predict_all(train_docs_featured[:100])\n",
        "tp, tn, p, n = eval(preds, train_docs_featured[:100])\n",
        "print(tp / p)\n",
        "print(tn / n)"
      ],
      "execution_count": 83,
      "outputs": [
        {
          "output_type": "stream",
          "text": [
            "1.0\n",
            "0.0\n"
          ],
          "name": "stdout"
        }
      ]
    },
    {
      "cell_type": "code",
      "metadata": {
        "id": "BSD1KI3K3gd6",
        "colab_type": "code",
        "colab": {
          "base_uri": "https://localhost:8080/",
          "height": 269
        },
        "outputId": "a972ce6a-517c-4367-a082-8b34646d14c6"
      },
      "source": [
        "for doc in train_docs[:1000]:\n",
        "  l = doc.is_spam\n",
        "  o = doc.features\n",
        "  if l == True:\n",
        "    color = 'red'\n",
        "  else:\n",
        "    color = 'green'\n",
        "  plt.scatter(o[1], o[3], color=color)\n",
        "# plt.xlim(0, 2000)\n",
        "# plt.ylim(0, 2000)\n",
        "plt.show()"
      ],
      "execution_count": 78,
      "outputs": [
        {
          "output_type": "display_data",
          "data": {
            "image/png": "[encoded data removed]",
            "text/plain": [
              "<Figure size 432x288 with 1 Axes>"
            ]
          },
          "metadata": {
            "tags": [],
            "needs_background": "light"
          }
        }
      ]
    },
    {
      "cell_type": "code",
      "metadata": {
        "id": "_SAHicn6Z_p-",
        "colab_type": "code",
        "colab": {}
      },
      "source": [
        "with open('submission.csv', 'wb') as fout:\n",
        "    writer = csv.writer(fout)\n",
        "    writer.writerow(['Id','Prediction'])\n",
        "    batch_size = 500\n",
        "    for i in range(len(submission_docs) // batch_size + 1):\n",
        "      current_submission_docs = submission_docs_features[i * batch_size:(i + 1) * batch_size]\n",
        "      \n",
        "      if len(current_submission_docs) == 0:\n",
        "        break\n",
        "      predictions = classifier.predict_all(current_submission_docs)\n",
        "      for doc, pred in zip(current_submission_docs, predictions):\n",
        "          # prediction =  1 if item[3] > threshold else 0\n",
        "          writer.writerow([doc.doc_id, int(pred)])"
      ],
      "execution_count": 0,
      "outputs": []
    }
  ]
}